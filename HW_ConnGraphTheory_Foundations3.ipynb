{
 "cells": [
  {
   "cell_type": "markdown",
   "metadata": {},
   "source": [
    "# Foundations 3: Homework for lab on connectivity and graph theory\n",
    "- Due November 22, 2023\n",
    "- Instructor: Ruben Sanchez-Romero\n",
    "- T.A: Jaleesa Longfellow\n",
    "- Fall 2023 CMBN"
   ]
  },
  {
   "cell_type": "markdown",
   "metadata": {},
   "source": [
    "Save the notebook *.ipynb file adding your name (eg. HW_ConnGraphTheory_Foundations3_RubenSanchez.ipynb)\n",
    "and send it to [ruben.saro.at.rutgers.edu]. \n",
    "I will run the notebook to grade it."
   ]
  },
  {
   "cell_type": "markdown",
   "metadata": {},
   "source": [
    "For each question add cells as you deem necessary."
   ]
  },
  {
   "cell_type": "markdown",
   "metadata": {},
   "source": [
    "Important! Be aware that Amarel will be down for maintenance Nov 21 & 22 (https://oarc.rutgers.edu/amarel-system-status/)"
   ]
  },
  {
   "cell_type": "code",
   "execution_count": null,
   "metadata": {},
   "outputs": [],
   "source": [
    "# necessary packages for the homework\n",
    "import numpy as np\n",
    "import matplotlib.pyplot as plt\n",
    "import bct as bct\n",
    "from scipy import stats\n",
    "import glob as glob\n",
    "import h5py"
   ]
  },
  {
   "cell_type": "markdown",
   "metadata": {},
   "source": [
    "### For the homework we will work with empirical Human Connectome Project resting-state data"
   ]
  },
  {
   "cell_type": "markdown",
   "metadata": {},
   "source": [
    "1. Download the resting-state preprocessed data for the first 10 subjects from the HCP dataset included in the Actflow Toolbox directory (should be inside the Foundations3_fMRI_lab directory). (I will do it here as an example.) "
   ]
  },
  {
   "cell_type": "code",
   "execution_count": null,
   "metadata": {},
   "outputs": [],
   "source": [
    "files_dir = f'../ActflowToolbox/examples/HCP_example_data'\n",
    "# this will find and sort in ascending order 30 subject files containing the preprocessed HCP resting-state run 1\n",
    "subject_files = sorted(glob.glob(f'{files_dir}/HCP_example_restrun1_subj*_data.h5'))\n",
    "# check that there are indeed 30 files\n",
    "print(f'{len(subject_files)} available subject files')\n",
    "\n",
    "# download the data for each individual subject\n",
    "# save results here\n",
    "num_nodes = 360 # 360 cortical nodes\n",
    "num_timepoints = 1195 # timepoints for just run 1\n",
    "num_subj = 10 # we only will use 10 here\n",
    "rest_data = np.zeros((num_nodes,num_timepoints,num_subj))\n",
    "\n",
    "scount = 0\n",
    "print(f'using {num_subj} first subjects')\n",
    "# loop just for the first 10 subjects\n",
    "for subject in subject_files[0:num_subj]:\n",
    "    # download the restdata\n",
    "    rest_data[:,:,scount] = h5py.File(subject,'r')['restdata']    \n",
    "    scount = scount + 1"
   ]
  },
  {
   "cell_type": "markdown",
   "metadata": {},
   "source": [
    "2. Compute the Pearson correlation FC for each subject individually. Save your results in a 360 x 360 x 10 matrix (nodes x nodes x subjects)"
   ]
  },
  {
   "cell_type": "code",
   "execution_count": null,
   "metadata": {},
   "outputs": [],
   "source": []
  },
  {
   "cell_type": "markdown",
   "metadata": {},
   "source": [
    "3. Compute the group average FC (360 x 360 matrix). Do not forget to set the diagonal entries to zero."
   ]
  },
  {
   "cell_type": "code",
   "execution_count": null,
   "metadata": {},
   "outputs": [],
   "source": []
  },
  {
   "cell_type": "markdown",
   "metadata": {},
   "source": [
    "4. Plot the group average FC, including the colorbar to see the range of values."
   ]
  },
  {
   "cell_type": "code",
   "execution_count": null,
   "metadata": {},
   "outputs": [],
   "source": []
  },
  {
   "cell_type": "markdown",
   "metadata": {},
   "source": [
    "### We will explore how graph metrics change as the density of the graph changes"
   ]
  },
  {
   "cell_type": "markdown",
   "metadata": {},
   "source": [
    "5. For mean degree, mean clustering coefficient, characteristic path length and mean betweenness centrality, plot each graph metric (y-axis) versus increasing values of density of the graph (x-axis). Consider densities 5%, 10%, 20% and 40%. Show the 4 plots. One for each graph metric. (As in the lab, only consider positive correlations for the threshold.) Do not forget to binarize before computing the graph metrics."
   ]
  },
  {
   "cell_type": "markdown",
   "metadata": {},
   "source": [
    "Note: Thresholding can result in nodes that are not connected to any other node (disconnected nodes). For disconnected nodes the shortest path length is set to Inf by the Brain Connectivity Toolbox (ie. there is no way to reach that node) and thus we need to use the characteristic path length function as such:<br /> \"bct.charpath(bct.distance_bin(graph),include_infinite=False)[0]\"<br /> (type \"bct.charpath?\" for more details)"
   ]
  },
  {
   "cell_type": "code",
   "execution_count": null,
   "metadata": {
    "scrolled": false
   },
   "outputs": [],
   "source": []
  },
  {
   "cell_type": "markdown",
   "metadata": {},
   "source": [
    "### We will explore if the resting-state FC graph metrics are larger than those from a null model without structure"
   ]
  },
  {
   "cell_type": "markdown",
   "metadata": {},
   "source": [
    "6. Threshold the group average FC to a 10% density and plot it. Then produce 500 null models. Use those to determine if the resting-state correlation FC graph metrics (mean clustering coefficient, characteristic path length and mean betweenness centrality) are significantly larger than those from null models without structure. Report the p-values (as computed in the lab) and describe if these p-values support the claim that resting-state FC graph metrics are larger than those from a null model."
   ]
  },
  {
   "cell_type": "code",
   "execution_count": null,
   "metadata": {},
   "outputs": [],
   "source": []
  },
  {
   "cell_type": "markdown",
   "metadata": {},
   "source": [
    "### Finally, we will determine if the resting-state FC graph metrics differ between two different subsets of subjects of the HCP data"
   ]
  },
  {
   "cell_type": "markdown",
   "metadata": {},
   "source": [
    "7. Repeat questions 1 to 4 but this time using the last 10 subjects from the HCP data."
   ]
  },
  {
   "cell_type": "code",
   "execution_count": null,
   "metadata": {},
   "outputs": [],
   "source": []
  },
  {
   "cell_type": "markdown",
   "metadata": {},
   "source": [
    "8. Threshold the group average FC matrix at 10% density, as above, and then plot."
   ]
  },
  {
   "cell_type": "code",
   "execution_count": null,
   "metadata": {},
   "outputs": [],
   "source": []
  },
  {
   "cell_type": "markdown",
   "metadata": {},
   "source": [
    "9. Use the Wilcoxon signed-rank test (used in the lab) to determine if the first group FC graph metrics differ from the last group FC. Consider both FCs at 10% density. Do the comparison for clustering coefficient, shortest path length (not characteristic path length!) and betweenness centrality. Report the result of the Wilcoxon function and describe if the p-values indicate a significant difference between the 10 first subjects and the last 10 subjects."
   ]
  },
  {
   "cell_type": "markdown",
   "metadata": {},
   "source": [
    "As mentioned in question 5, disconnected nodes will have shortest path length set to Inf. So, in order to properly compute the Wilcoxon test, we need to first remove the resulting nan values of the difference (a difference with an Inf value produces a nan). We can do this using the numpy function np.isfinite:<br />\n",
    "idx = np.isfinite[difference]<br />\n",
    "difference = difference[idx]<br />\n",
    "The resulting difference does not have nan values and can be used in the Wilcoxon test.<br />\n",
    "(type np.isfinite? for details)"
   ]
  },
  {
   "cell_type": "code",
   "execution_count": null,
   "metadata": {},
   "outputs": [],
   "source": []
  }
 ],
 "metadata": {
  "kernelspec": {
   "display_name": "Python 3",
   "language": "python",
   "name": "python3"
  },
  "language_info": {
   "codemirror_mode": {
    "name": "ipython",
    "version": 3
   },
   "file_extension": ".py",
   "mimetype": "text/x-python",
   "name": "python",
   "nbconvert_exporter": "python",
   "pygments_lexer": "ipython3",
   "version": "3.7.1"
  }
 },
 "nbformat": 4,
 "nbformat_minor": 2
}
